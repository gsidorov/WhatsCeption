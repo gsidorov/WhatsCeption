{
 "cells": [
  {
   "cell_type": "markdown",
   "metadata": {},
   "source": [
    "## To do list:\n",
    "\n",
    "- Create a feature like: 'Longest word said', we can build it by going word by word choosing the longest one and then verifying with a method that there are no special characters\n",
    "- Most used emoji\n",
    "- Number of times you have said: ['joder', 'mama', 'pedo']\n",
    "- average response time\n",
    "- create a better function to identify the names of the users\n",
    "- % of messages that are replied within a day\n",
    "- % of messages replied within an hour / minute / 10 minutes etc\n",
    "- exact days with 'more' messages\n",
    "- a graph with the most used emojis by user\n",
    "- numero de links enviados\n",
    "- different metrics for \"mean time in between messages\" and \"mean time to respond a request\"no es lo mismo que nacho me pregunte algo y yo le responda a las dos horas, y calcular el tiempo medio de res- puesta, que calcular la media sin mas entre mensaje\n",
    "- average message per day \n",
    "- count '<multimedia omitido' y <multimedia omitted (in english)\n",
    "- weeks without messages (I think it would involve df.resample('w') and check for weeks without messages\n",
    "- distribucion de los mensajes entre la madrugada, mañana, tarde y noche\n",
    "- I should add a function that indentifies european vs american calendar dates\n",
    "- Also another function that identifies 24h format vs am,pm\n",
    "- The lag features are quite buggy, if you sort_values('response time') you will see it, looks like if you have a \"multimedia \"file\" it just gets bugged because the dates get switched\n",
    "- count multimedia function\n",
    "- **use index.dt.floor('day' or 'd') to resample instead** (looks like I found an error but I was wrong)\n",
    "- most used word by moment of the day (quarter 1-4)\n",
    "- longest period without talking\n",
    "- **I think that I should create a global variable of users within methods.py and just keep on using that variable all the time**\n",
    "- PALABRA MAS USADA (miguel)\n"
   ]
  },
  {
   "cell_type": "code",
   "execution_count": 113,
   "metadata": {},
   "outputs": [],
   "source": [
    "# https://github.com/huggingface/nlp\n",
    "# ask Jacopo about the other site with the papers"
   ]
  },
  {
   "cell_type": "code",
   "execution_count": 114,
   "metadata": {},
   "outputs": [],
   "source": [
    "import streamlit as st"
   ]
  },
  {
   "cell_type": "code",
   "execution_count": 115,
   "metadata": {},
   "outputs": [
    {
     "name": "stdout",
     "output_type": "stream",
     "text": [
      "The autoreload extension is already loaded. To reload it, use:\n",
      "  %reload_ext autoreload\n"
     ]
    }
   ],
   "source": [
    "import os\n",
    "import pandas as pd\n",
    "import matplotlib.pyplot as plt\n",
    "from datetime import datetime # this actually means import datetime.datetime\n",
    "import seaborn as sns\n",
    "import emoji\n",
    "import streamlit\n",
    "\n",
    "%load_ext autoreload\n",
    "%autoreload 2"
   ]
  },
  {
   "cell_type": "code",
   "execution_count": 116,
   "metadata": {},
   "outputs": [],
   "source": [
    "from methods import create_chat_list, clean_chat_list\n",
    "\n",
    "chat = create_chat_list()\n",
    "chat = clean_chat_list(chat)\n"
   ]
  },
  {
   "cell_type": "code",
   "execution_count": 4,
   "metadata": {},
   "outputs": [],
   "source": [
    "chat_test = create_chat_list()"
   ]
  },
  {
   "cell_type": "code",
   "execution_count": 5,
   "metadata": {},
   "outputs": [],
   "source": [
    "import re"
   ]
  },
  {
   "cell_type": "code",
   "execution_count": 6,
   "metadata": {},
   "outputs": [
    {
     "data": {
      "text/plain": [
       "['', 'Gleb Uni: Con buenas vibras y concentración easy']"
      ]
     },
     "execution_count": 6,
     "metadata": {},
     "output_type": "execute_result"
    }
   ],
   "source": [
    "re.split(r'\\d\\d?/\\d\\d?/\\d\\d\\s\\d\\d?:\\d\\d?\\s-\\s', chat_test[0])"
   ]
  },
  {
   "cell_type": "code",
   "execution_count": 7,
   "metadata": {},
   "outputs": [],
   "source": [
    "# [re.findall(r'\\d\\d?/\\d\\d?/\\d\\d\\s\\d\\d?:\\d\\d?', chat_test[i]) for i in range(10000)]"
   ]
  },
  {
   "cell_type": "code",
   "execution_count": 10,
   "metadata": {},
   "outputs": [],
   "source": [
    "# chat"
   ]
  },
  {
   "cell_type": "code",
   "execution_count": 11,
   "metadata": {},
   "outputs": [],
   "source": [
    "from methods import chat_to_df\n",
    "\n",
    "df = chat_to_df(chat)"
   ]
  },
  {
   "cell_type": "code",
   "execution_count": 12,
   "metadata": {},
   "outputs": [
    {
     "data": {
      "text/html": [
       "<div>\n",
       "<style scoped>\n",
       "    .dataframe tbody tr th:only-of-type {\n",
       "        vertical-align: middle;\n",
       "    }\n",
       "\n",
       "    .dataframe tbody tr th {\n",
       "        vertical-align: top;\n",
       "    }\n",
       "\n",
       "    .dataframe thead th {\n",
       "        text-align: right;\n",
       "    }\n",
       "</style>\n",
       "<table border=\"1\" class=\"dataframe\">\n",
       "  <thead>\n",
       "    <tr style=\"text-align: right;\">\n",
       "      <th></th>\n",
       "      <th>id</th>\n",
       "      <th>user</th>\n",
       "      <th>message</th>\n",
       "      <th>year</th>\n",
       "      <th>month</th>\n",
       "      <th>week</th>\n",
       "      <th>day</th>\n",
       "      <th>dayweek</th>\n",
       "      <th>hour</th>\n",
       "      <th>minute</th>\n",
       "      <th>emoji_count</th>\n",
       "      <th>media</th>\n",
       "      <th>words_count</th>\n",
       "    </tr>\n",
       "    <tr>\n",
       "      <th>date</th>\n",
       "      <th></th>\n",
       "      <th></th>\n",
       "      <th></th>\n",
       "      <th></th>\n",
       "      <th></th>\n",
       "      <th></th>\n",
       "      <th></th>\n",
       "      <th></th>\n",
       "      <th></th>\n",
       "      <th></th>\n",
       "      <th></th>\n",
       "      <th></th>\n",
       "      <th></th>\n",
       "    </tr>\n",
       "  </thead>\n",
       "  <tbody>\n",
       "    <tr>\n",
       "      <th>2017-06-19 18:27:00</th>\n",
       "      <td>0</td>\n",
       "      <td>Gleb Uni</td>\n",
       "      <td>Con buenas vibras y concentración easy</td>\n",
       "      <td>2017</td>\n",
       "      <td>6</td>\n",
       "      <td>25</td>\n",
       "      <td>19</td>\n",
       "      <td>0</td>\n",
       "      <td>18</td>\n",
       "      <td>27</td>\n",
       "      <td>0</td>\n",
       "      <td>0</td>\n",
       "      <td>7</td>\n",
       "    </tr>\n",
       "    <tr>\n",
       "      <th>2017-06-19 18:27:00</th>\n",
       "      <td>1</td>\n",
       "      <td>Nacho</td>\n",
       "      <td>Sii</td>\n",
       "      <td>2017</td>\n",
       "      <td>6</td>\n",
       "      <td>25</td>\n",
       "      <td>19</td>\n",
       "      <td>0</td>\n",
       "      <td>18</td>\n",
       "      <td>27</td>\n",
       "      <td>0</td>\n",
       "      <td>0</td>\n",
       "      <td>2</td>\n",
       "    </tr>\n",
       "    <tr>\n",
       "      <th>2017-06-19 18:28:00</th>\n",
       "      <td>2</td>\n",
       "      <td>Nacho</td>\n",
       "      <td>De esto, basicamente pienso que cuando tu sab...</td>\n",
       "      <td>2017</td>\n",
       "      <td>6</td>\n",
       "      <td>25</td>\n",
       "      <td>19</td>\n",
       "      <td>0</td>\n",
       "      <td>18</td>\n",
       "      <td>28</td>\n",
       "      <td>0</td>\n",
       "      <td>0</td>\n",
       "      <td>46</td>\n",
       "    </tr>\n",
       "    <tr>\n",
       "      <th>2017-06-19 18:28:00</th>\n",
       "      <td>3</td>\n",
       "      <td>Nacho</td>\n",
       "      <td>Es decir, se trstaria de evaluar un producto ...</td>\n",
       "      <td>2017</td>\n",
       "      <td>6</td>\n",
       "      <td>25</td>\n",
       "      <td>19</td>\n",
       "      <td>0</td>\n",
       "      <td>18</td>\n",
       "      <td>28</td>\n",
       "      <td>0</td>\n",
       "      <td>0</td>\n",
       "      <td>19</td>\n",
       "    </tr>\n",
       "    <tr>\n",
       "      <th>2017-06-19 18:28:00</th>\n",
       "      <td>4</td>\n",
       "      <td>Nacho</td>\n",
       "      <td>Mas o menos</td>\n",
       "      <td>2017</td>\n",
       "      <td>6</td>\n",
       "      <td>25</td>\n",
       "      <td>19</td>\n",
       "      <td>0</td>\n",
       "      <td>18</td>\n",
       "      <td>28</td>\n",
       "      <td>0</td>\n",
       "      <td>0</td>\n",
       "      <td>4</td>\n",
       "    </tr>\n",
       "    <tr>\n",
       "      <th>...</th>\n",
       "      <td>...</td>\n",
       "      <td>...</td>\n",
       "      <td>...</td>\n",
       "      <td>...</td>\n",
       "      <td>...</td>\n",
       "      <td>...</td>\n",
       "      <td>...</td>\n",
       "      <td>...</td>\n",
       "      <td>...</td>\n",
       "      <td>...</td>\n",
       "      <td>...</td>\n",
       "      <td>...</td>\n",
       "      <td>...</td>\n",
       "    </tr>\n",
       "    <tr>\n",
       "      <th>2020-06-30 23:36:00</th>\n",
       "      <td>39994</td>\n",
       "      <td>Gleb Uni</td>\n",
       "      <td>https://towardsdatascience.com/analyzethechat...</td>\n",
       "      <td>2020</td>\n",
       "      <td>6</td>\n",
       "      <td>27</td>\n",
       "      <td>30</td>\n",
       "      <td>1</td>\n",
       "      <td>23</td>\n",
       "      <td>36</td>\n",
       "      <td>0</td>\n",
       "      <td>0</td>\n",
       "      <td>2</td>\n",
       "    </tr>\n",
       "    <tr>\n",
       "      <th>2020-06-30 23:36:00</th>\n",
       "      <td>39995</td>\n",
       "      <td>Gleb Uni</td>\n",
       "      <td>sii</td>\n",
       "      <td>2020</td>\n",
       "      <td>6</td>\n",
       "      <td>27</td>\n",
       "      <td>30</td>\n",
       "      <td>1</td>\n",
       "      <td>23</td>\n",
       "      <td>36</td>\n",
       "      <td>0</td>\n",
       "      <td>0</td>\n",
       "      <td>2</td>\n",
       "    </tr>\n",
       "    <tr>\n",
       "      <th>2020-06-30 23:36:00</th>\n",
       "      <td>39996</td>\n",
       "      <td>Gleb Uni</td>\n",
       "      <td>justo</td>\n",
       "      <td>2020</td>\n",
       "      <td>6</td>\n",
       "      <td>27</td>\n",
       "      <td>30</td>\n",
       "      <td>1</td>\n",
       "      <td>23</td>\n",
       "      <td>36</td>\n",
       "      <td>0</td>\n",
       "      <td>0</td>\n",
       "      <td>2</td>\n",
       "    </tr>\n",
       "    <tr>\n",
       "      <th>2020-06-30 23:36:00</th>\n",
       "      <td>39997</td>\n",
       "      <td>Nacho</td>\n",
       "      <td>Jajajajajaja qué asco el que</td>\n",
       "      <td>2020</td>\n",
       "      <td>6</td>\n",
       "      <td>27</td>\n",
       "      <td>30</td>\n",
       "      <td>1</td>\n",
       "      <td>23</td>\n",
       "      <td>36</td>\n",
       "      <td>0</td>\n",
       "      <td>0</td>\n",
       "      <td>6</td>\n",
       "    </tr>\n",
       "    <tr>\n",
       "      <th>2020-06-30 23:36:00</th>\n",
       "      <td>39998</td>\n",
       "      <td>Gleb Uni</td>\n",
       "      <td>la caca</td>\n",
       "      <td>2020</td>\n",
       "      <td>6</td>\n",
       "      <td>27</td>\n",
       "      <td>30</td>\n",
       "      <td>1</td>\n",
       "      <td>23</td>\n",
       "      <td>36</td>\n",
       "      <td>0</td>\n",
       "      <td>0</td>\n",
       "      <td>3</td>\n",
       "    </tr>\n",
       "  </tbody>\n",
       "</table>\n",
       "<p>39999 rows × 13 columns</p>\n",
       "</div>"
      ],
      "text/plain": [
       "                        id      user  \\\n",
       "date                                   \n",
       "2017-06-19 18:27:00      0  Gleb Uni   \n",
       "2017-06-19 18:27:00      1     Nacho   \n",
       "2017-06-19 18:28:00      2     Nacho   \n",
       "2017-06-19 18:28:00      3     Nacho   \n",
       "2017-06-19 18:28:00      4     Nacho   \n",
       "...                    ...       ...   \n",
       "2020-06-30 23:36:00  39994  Gleb Uni   \n",
       "2020-06-30 23:36:00  39995  Gleb Uni   \n",
       "2020-06-30 23:36:00  39996  Gleb Uni   \n",
       "2020-06-30 23:36:00  39997     Nacho   \n",
       "2020-06-30 23:36:00  39998  Gleb Uni   \n",
       "\n",
       "                                                               message  year  \\\n",
       "date                                                                           \n",
       "2017-06-19 18:27:00             Con buenas vibras y concentración easy  2017   \n",
       "2017-06-19 18:27:00                                                Sii  2017   \n",
       "2017-06-19 18:28:00   De esto, basicamente pienso que cuando tu sab...  2017   \n",
       "2017-06-19 18:28:00   Es decir, se trstaria de evaluar un producto ...  2017   \n",
       "2017-06-19 18:28:00                                        Mas o menos  2017   \n",
       "...                                                                ...   ...   \n",
       "2020-06-30 23:36:00   https://towardsdatascience.com/analyzethechat...  2020   \n",
       "2020-06-30 23:36:00                                                sii  2020   \n",
       "2020-06-30 23:36:00                                              justo  2020   \n",
       "2020-06-30 23:36:00                       Jajajajajaja qué asco el que  2020   \n",
       "2020-06-30 23:36:00                                            la caca  2020   \n",
       "\n",
       "                     month  week  day  dayweek  hour  minute  emoji_count  \\\n",
       "date                                                                        \n",
       "2017-06-19 18:27:00      6    25   19        0    18      27            0   \n",
       "2017-06-19 18:27:00      6    25   19        0    18      27            0   \n",
       "2017-06-19 18:28:00      6    25   19        0    18      28            0   \n",
       "2017-06-19 18:28:00      6    25   19        0    18      28            0   \n",
       "2017-06-19 18:28:00      6    25   19        0    18      28            0   \n",
       "...                    ...   ...  ...      ...   ...     ...          ...   \n",
       "2020-06-30 23:36:00      6    27   30        1    23      36            0   \n",
       "2020-06-30 23:36:00      6    27   30        1    23      36            0   \n",
       "2020-06-30 23:36:00      6    27   30        1    23      36            0   \n",
       "2020-06-30 23:36:00      6    27   30        1    23      36            0   \n",
       "2020-06-30 23:36:00      6    27   30        1    23      36            0   \n",
       "\n",
       "                     media  words_count  \n",
       "date                                     \n",
       "2017-06-19 18:27:00      0            7  \n",
       "2017-06-19 18:27:00      0            2  \n",
       "2017-06-19 18:28:00      0           46  \n",
       "2017-06-19 18:28:00      0           19  \n",
       "2017-06-19 18:28:00      0            4  \n",
       "...                    ...          ...  \n",
       "2020-06-30 23:36:00      0            2  \n",
       "2020-06-30 23:36:00      0            2  \n",
       "2020-06-30 23:36:00      0            2  \n",
       "2020-06-30 23:36:00      0            6  \n",
       "2020-06-30 23:36:00      0            3  \n",
       "\n",
       "[39999 rows x 13 columns]"
      ]
     },
     "execution_count": 12,
     "metadata": {},
     "output_type": "execute_result"
    }
   ],
   "source": [
    "df"
   ]
  },
  {
   "cell_type": "code",
   "execution_count": 13,
   "metadata": {},
   "outputs": [
    {
     "data": {
      "text/plain": [
       "147"
      ]
     },
     "execution_count": 13,
     "metadata": {},
     "output_type": "execute_result"
    }
   ],
   "source": [
    "df[(df.emoji_count != 0) & (df.user == 'Nacho')].emoji_count.sum()"
   ]
  },
  {
   "cell_type": "code",
   "execution_count": 14,
   "metadata": {},
   "outputs": [
    {
     "data": {
      "text/plain": [
       "1156"
      ]
     },
     "execution_count": 14,
     "metadata": {},
     "output_type": "execute_result"
    }
   ],
   "source": [
    "df[(df.emoji_count != 0) & (df.user == 'Gleb Uni')].emoji_count.sum()"
   ]
  },
  {
   "cell_type": "markdown",
   "metadata": {},
   "source": [
    "Resampling examples // Does not make sense"
   ]
  },
  {
   "cell_type": "code",
   "execution_count": 15,
   "metadata": {},
   "outputs": [
    {
     "data": {
      "text/plain": [
       "<pandas.core.resample.DatetimeIndexResampler object at 0x7f884c80ead0>"
      ]
     },
     "execution_count": 15,
     "metadata": {},
     "output_type": "execute_result"
    }
   ],
   "source": [
    "df.resample('d')"
   ]
  },
  {
   "cell_type": "code",
   "execution_count": 16,
   "metadata": {},
   "outputs": [
    {
     "data": {
      "text/plain": [
       "<matplotlib.axes._subplots.AxesSubplot at 0x7f884c891b10>"
      ]
     },
     "execution_count": 16,
     "metadata": {},
     "output_type": "execute_result"
    },
    {
     "data": {
      "image/png": "[encoded data removed]",
      "text/plain": [
       "<Figure size 1080x720 with 1 Axes>"
      ]
     },
     "metadata": {
      "needs_background": "light"
     },
     "output_type": "display_data"
    }
   ],
   "source": [
    "from charts import message_distribution_plot\n",
    "\n",
    "message_distribution_plot(df,'day')"
   ]
  },
  {
   "cell_type": "code",
   "execution_count": 17,
   "metadata": {},
   "outputs": [],
   "source": [
    "from charts import value_counts_plot, value_counts_plot_sns"
   ]
  },
  {
   "cell_type": "code",
   "execution_count": 18,
   "metadata": {},
   "outputs": [
    {
     "data": {
      "text/plain": [
       "<matplotlib.axes._subplots.AxesSubplot at 0x7f884c7739d0>"
      ]
     },
     "execution_count": 18,
     "metadata": {},
     "output_type": "execute_result"
    },
    {
     "data": {
      "image/png": "[encoded data removed]",
      "text/plain": [
       "<Figure size 1080x720 with 1 Axes>"
      ]
     },
     "metadata": {
      "needs_background": "light"
     },
     "output_type": "display_data"
    }
   ],
   "source": [
    "value_counts_plot(df.month)"
   ]
  },
  {
   "cell_type": "code",
   "execution_count": 21,
   "metadata": {},
   "outputs": [
    {
     "data": {
      "text/plain": [
       "<matplotlib.axes._subplots.AxesSubplot at 0x7f884c70df50>"
      ]
     },
     "execution_count": 21,
     "metadata": {},
     "output_type": "execute_result"
    },
    {
     "data": {
      "image/png": "[encoded data removed]",
      "text/plain": [
       "<Figure size 1080x720 with 1 Axes>"
      ]
     },
     "metadata": {
      "needs_background": "light"
     },
     "output_type": "display_data"
    }
   ],
   "source": [
    "value_counts_plot(df.dayweek)"
   ]
  },
  {
   "cell_type": "code",
   "execution_count": 22,
   "metadata": {},
   "outputs": [
    {
     "data": {
      "text/plain": [
       "<matplotlib.axes._subplots.AxesSubplot at 0x7f884c708e50>"
      ]
     },
     "execution_count": 22,
     "metadata": {},
     "output_type": "execute_result"
    },
    {
     "data": {
      "image/png": "[encoded data removed]",
      "text/plain": [
       "<Figure size 1080x720 with 1 Axes>"
      ]
     },
     "metadata": {
      "needs_background": "light"
     },
     "output_type": "display_data"
    }
   ],
   "source": [
    "from charts import value_counts_plot_sns_hue\n",
    "\n",
    "value_counts_plot_sns_hue(df, 'dayweek', 'user')"
   ]
  },
  {
   "cell_type": "code",
   "execution_count": 23,
   "metadata": {},
   "outputs": [
    {
     "data": {
      "text/plain": [
       "<matplotlib.axes._subplots.AxesSubplot at 0x7f884c67d1d0>"
      ]
     },
     "execution_count": 23,
     "metadata": {},
     "output_type": "execute_result"
    },
    {
     "data": {
      "image/png": "[encoded data removed]",
      "text/plain": [
       "<Figure size 648x360 with 1 Axes>"
      ]
     },
     "metadata": {
      "needs_background": "light"
     },
     "output_type": "display_data"
    }
   ],
   "source": [
    "plt.figure(figsize=(9,5))\n",
    "sns.barplot(\n",
    "    x = list(set(df.year.values )),\n",
    "    y = df.year.value_counts(),\n",
    "    # hue=df.user.unique()\n",
    ")"
   ]
  },
  {
   "cell_type": "code",
   "execution_count": 24,
   "metadata": {},
   "outputs": [
    {
     "data": {
      "text/plain": [
       "39"
      ]
     },
     "execution_count": 24,
     "metadata": {},
     "output_type": "execute_result"
    }
   ],
   "source": [
    "len(df.iloc[0].message)"
   ]
  },
  {
   "cell_type": "markdown",
   "metadata": {},
   "source": [
    "### To do: make a column with the length of the message, make a column whether or not there is an emoji, make a column of answer time and then some charts on average answering time"
   ]
  },
  {
   "cell_type": "code",
   "execution_count": 25,
   "metadata": {},
   "outputs": [],
   "source": [
    "df_lag = df.copy()"
   ]
  },
  {
   "cell_type": "code",
   "execution_count": 26,
   "metadata": {},
   "outputs": [],
   "source": [
    "# Would be nice to create a lag function for all the users, the thing is that I am not completely sure how to do it\n",
    "#for user in unique_users:\n",
    "        "
   ]
  },
  {
   "cell_type": "code",
   "execution_count": 27,
   "metadata": {},
   "outputs": [],
   "source": [
    "df_gleb = df_lag[df.user == 'Gleb Uni']\n",
    "df_nacho = df_lag[df.user == 'Nacho']\n"
   ]
  },
  {
   "cell_type": "code",
   "execution_count": 28,
   "metadata": {},
   "outputs": [
    {
     "name": "stderr",
     "output_type": "stream",
     "text": [
      "/home/neuralcrypto/anaconda3/lib/python3.7/site-packages/pandas/core/indexing.py:844: SettingWithCopyWarning: \n",
      "A value is trying to be set on a copy of a slice from a DataFrame.\n",
      "Try using .loc[row_indexer,col_indexer] = value instead\n",
      "\n",
      "See the caveats in the documentation: https://pandas.pydata.org/pandas-docs/stable/user_guide/indexing.html#returning-a-view-versus-a-copy\n",
      "  self.obj[key] = _infer_fill_value(value)\n",
      "/home/neuralcrypto/anaconda3/lib/python3.7/site-packages/pandas/core/indexing.py:965: SettingWithCopyWarning: \n",
      "A value is trying to be set on a copy of a slice from a DataFrame.\n",
      "Try using .loc[row_indexer,col_indexer] = value instead\n",
      "\n",
      "See the caveats in the documentation: https://pandas.pydata.org/pandas-docs/stable/user_guide/indexing.html#returning-a-view-versus-a-copy\n",
      "  self.obj[item] = s\n"
     ]
    }
   ],
   "source": [
    "df_gleb.loc[:,'date2'] = df_gleb.iloc[:,0].index\n",
    "df_nacho.loc[:, 'date2'] = df_nacho.iloc[:,0].index"
   ]
  },
  {
   "cell_type": "code",
   "execution_count": 29,
   "metadata": {},
   "outputs": [
    {
     "data": {
      "text/plain": [
       "array([                          'NaT', '2017-06-19T18:27:00.000000000',\n",
       "       '2017-06-19T18:28:00.000000000', ...,\n",
       "       '2020-06-30T23:24:00.000000000', '2020-06-30T23:35:00.000000000',\n",
       "       '2020-06-30T23:36:00.000000000'], dtype='datetime64[ns]')"
      ]
     },
     "execution_count": 29,
     "metadata": {},
     "output_type": "execute_result"
    }
   ],
   "source": [
    "df_gleb.date2.shift(1).values\n",
    "df_nacho.date2.shift(1).values"
   ]
  },
  {
   "cell_type": "code",
   "execution_count": 30,
   "metadata": {},
   "outputs": [
    {
     "data": {
      "text/plain": [
       "date\n",
       "2017-06-19 18:27:00   2017-06-19 18:27:00\n",
       "2017-06-19 18:29:00   2017-06-19 18:29:00\n",
       "2017-06-19 18:29:00   2017-06-19 18:29:00\n",
       "2017-06-19 18:30:00   2017-06-19 18:30:00\n",
       "2017-06-19 18:30:00   2017-06-19 18:30:00\n",
       "                              ...        \n",
       "2020-06-30 23:36:00   2020-06-30 23:36:00\n",
       "2020-06-30 23:36:00   2020-06-30 23:36:00\n",
       "2020-06-30 23:36:00   2020-06-30 23:36:00\n",
       "2020-06-30 23:36:00   2020-06-30 23:36:00\n",
       "2020-06-30 23:36:00   2020-06-30 23:36:00\n",
       "Name: date2, Length: 22202, dtype: datetime64[ns]"
      ]
     },
     "execution_count": 30,
     "metadata": {},
     "output_type": "execute_result"
    }
   ],
   "source": [
    "df_gleb.date2"
   ]
  },
  {
   "cell_type": "code",
   "execution_count": 31,
   "metadata": {},
   "outputs": [
    {
     "data": {
      "text/html": [
       "<div>\n",
       "<style scoped>\n",
       "    .dataframe tbody tr th:only-of-type {\n",
       "        vertical-align: middle;\n",
       "    }\n",
       "\n",
       "    .dataframe tbody tr th {\n",
       "        vertical-align: top;\n",
       "    }\n",
       "\n",
       "    .dataframe thead th {\n",
       "        text-align: right;\n",
       "    }\n",
       "</style>\n",
       "<table border=\"1\" class=\"dataframe\">\n",
       "  <thead>\n",
       "    <tr style=\"text-align: right;\">\n",
       "      <th></th>\n",
       "      <th>date</th>\n",
       "    </tr>\n",
       "  </thead>\n",
       "  <tbody>\n",
       "    <tr>\n",
       "      <th>0</th>\n",
       "      <td>NaT</td>\n",
       "    </tr>\n",
       "    <tr>\n",
       "      <th>1</th>\n",
       "      <td>2017-06-19 18:27:00</td>\n",
       "    </tr>\n",
       "    <tr>\n",
       "      <th>2</th>\n",
       "      <td>2017-06-19 18:29:00</td>\n",
       "    </tr>\n",
       "    <tr>\n",
       "      <th>3</th>\n",
       "      <td>2017-06-19 18:29:00</td>\n",
       "    </tr>\n",
       "    <tr>\n",
       "      <th>4</th>\n",
       "      <td>2017-06-19 18:30:00</td>\n",
       "    </tr>\n",
       "    <tr>\n",
       "      <th>...</th>\n",
       "      <td>...</td>\n",
       "    </tr>\n",
       "    <tr>\n",
       "      <th>22197</th>\n",
       "      <td>2020-06-30 23:36:00</td>\n",
       "    </tr>\n",
       "    <tr>\n",
       "      <th>22198</th>\n",
       "      <td>2020-06-30 23:36:00</td>\n",
       "    </tr>\n",
       "    <tr>\n",
       "      <th>22199</th>\n",
       "      <td>2020-06-30 23:36:00</td>\n",
       "    </tr>\n",
       "    <tr>\n",
       "      <th>22200</th>\n",
       "      <td>2020-06-30 23:36:00</td>\n",
       "    </tr>\n",
       "    <tr>\n",
       "      <th>22201</th>\n",
       "      <td>2020-06-30 23:36:00</td>\n",
       "    </tr>\n",
       "  </tbody>\n",
       "</table>\n",
       "<p>22202 rows × 1 columns</p>\n",
       "</div>"
      ],
      "text/plain": [
       "                     date\n",
       "0                     NaT\n",
       "1     2017-06-19 18:27:00\n",
       "2     2017-06-19 18:29:00\n",
       "3     2017-06-19 18:29:00\n",
       "4     2017-06-19 18:30:00\n",
       "...                   ...\n",
       "22197 2020-06-30 23:36:00\n",
       "22198 2020-06-30 23:36:00\n",
       "22199 2020-06-30 23:36:00\n",
       "22200 2020-06-30 23:36:00\n",
       "22201 2020-06-30 23:36:00\n",
       "\n",
       "[22202 rows x 1 columns]"
      ]
     },
     "execution_count": 31,
     "metadata": {},
     "output_type": "execute_result"
    }
   ],
   "source": [
    "pd.DataFrame(df_gleb.index).shift(1)"
   ]
  },
  {
   "cell_type": "code",
   "execution_count": 32,
   "metadata": {},
   "outputs": [
    {
     "data": {
      "text/plain": [
       "pandas.core.series.Series"
      ]
     },
     "execution_count": 32,
     "metadata": {},
     "output_type": "execute_result"
    }
   ],
   "source": [
    "type( pd.Series(df_gleb.index).shift(1))"
   ]
  },
  {
   "cell_type": "code",
   "execution_count": 33,
   "metadata": {},
   "outputs": [
    {
     "name": "stderr",
     "output_type": "stream",
     "text": [
      "/home/neuralcrypto/anaconda3/lib/python3.7/site-packages/ipykernel_launcher.py:1: SettingWithCopyWarning: \n",
      "A value is trying to be set on a copy of a slice from a DataFrame.\n",
      "Try using .loc[row_indexer,col_indexer] = value instead\n",
      "\n",
      "See the caveats in the documentation: https://pandas.pydata.org/pandas-docs/stable/user_guide/indexing.html#returning-a-view-versus-a-copy\n",
      "  \"\"\"Entry point for launching an IPython kernel.\n",
      "/home/neuralcrypto/anaconda3/lib/python3.7/site-packages/ipykernel_launcher.py:2: SettingWithCopyWarning: \n",
      "A value is trying to be set on a copy of a slice from a DataFrame.\n",
      "Try using .loc[row_indexer,col_indexer] = value instead\n",
      "\n",
      "See the caveats in the documentation: https://pandas.pydata.org/pandas-docs/stable/user_guide/indexing.html#returning-a-view-versus-a-copy\n",
      "  \n"
     ]
    }
   ],
   "source": [
    "df_gleb['lag'] = df_gleb.date2.shift(1)\n",
    "df_nacho['lag'] = df_nacho.date2.shift(1)"
   ]
  },
  {
   "cell_type": "code",
   "execution_count": 34,
   "metadata": {},
   "outputs": [
    {
     "name": "stderr",
     "output_type": "stream",
     "text": [
      "/home/neuralcrypto/anaconda3/lib/python3.7/site-packages/ipykernel_launcher.py:1: SettingWithCopyWarning: \n",
      "A value is trying to be set on a copy of a slice from a DataFrame.\n",
      "Try using .loc[row_indexer,col_indexer] = value instead\n",
      "\n",
      "See the caveats in the documentation: https://pandas.pydata.org/pandas-docs/stable/user_guide/indexing.html#returning-a-view-versus-a-copy\n",
      "  \"\"\"Entry point for launching an IPython kernel.\n",
      "/home/neuralcrypto/anaconda3/lib/python3.7/site-packages/ipykernel_launcher.py:2: SettingWithCopyWarning: \n",
      "A value is trying to be set on a copy of a slice from a DataFrame.\n",
      "Try using .loc[row_indexer,col_indexer] = value instead\n",
      "\n",
      "See the caveats in the documentation: https://pandas.pydata.org/pandas-docs/stable/user_guide/indexing.html#returning-a-view-versus-a-copy\n",
      "  \n"
     ]
    }
   ],
   "source": [
    "df_gleb['lag'] = pd.Series(df_gleb.index).shift(1)\n",
    "df_nacho['lag'] = pd.Series(df_nacho.index).shift(1)"
   ]
  },
  {
   "cell_type": "code",
   "execution_count": 35,
   "metadata": {},
   "outputs": [
    {
     "ename": "KeyError",
     "evalue": "'response time'",
     "output_type": "error",
     "traceback": [
      "\u001b[0;31m---------------------------------------------------------------------------\u001b[0m",
      "\u001b[0;31mKeyError\u001b[0m                                  Traceback (most recent call last)",
      "\u001b[0;32m<ipython-input-35-05b6ef06ac76>\u001b[0m in \u001b[0;36m<module>\u001b[0;34m\u001b[0m\n\u001b[0;32m----> 1\u001b[0;31m \u001b[0mdf_gleb\u001b[0m\u001b[0;34m.\u001b[0m\u001b[0msort_values\u001b[0m\u001b[0;34m(\u001b[0m\u001b[0;34m'response time'\u001b[0m\u001b[0;34m)\u001b[0m\u001b[0;34m\u001b[0m\u001b[0;34m\u001b[0m\u001b[0m\n\u001b[0m",
      "\u001b[0;32m~/anaconda3/lib/python3.7/site-packages/pandas/core/frame.py\u001b[0m in \u001b[0;36msort_values\u001b[0;34m(self, by, axis, ascending, inplace, kind, na_position, ignore_index)\u001b[0m\n\u001b[1;32m   4925\u001b[0m \u001b[0;34m\u001b[0m\u001b[0m\n\u001b[1;32m   4926\u001b[0m             \u001b[0mby\u001b[0m \u001b[0;34m=\u001b[0m \u001b[0mby\u001b[0m\u001b[0;34m[\u001b[0m\u001b[0;36m0\u001b[0m\u001b[0;34m]\u001b[0m\u001b[0;34m\u001b[0m\u001b[0;34m\u001b[0m\u001b[0m\n\u001b[0;32m-> 4927\u001b[0;31m             \u001b[0mk\u001b[0m \u001b[0;34m=\u001b[0m \u001b[0mself\u001b[0m\u001b[0;34m.\u001b[0m\u001b[0m_get_label_or_level_values\u001b[0m\u001b[0;34m(\u001b[0m\u001b[0mby\u001b[0m\u001b[0;34m,\u001b[0m \u001b[0maxis\u001b[0m\u001b[0;34m=\u001b[0m\u001b[0maxis\u001b[0m\u001b[0;34m)\u001b[0m\u001b[0;34m\u001b[0m\u001b[0;34m\u001b[0m\u001b[0m\n\u001b[0m\u001b[1;32m   4928\u001b[0m \u001b[0;34m\u001b[0m\u001b[0m\n\u001b[1;32m   4929\u001b[0m             \u001b[0;32mif\u001b[0m \u001b[0misinstance\u001b[0m\u001b[0;34m(\u001b[0m\u001b[0mascending\u001b[0m\u001b[0;34m,\u001b[0m \u001b[0;34m(\u001b[0m\u001b[0mtuple\u001b[0m\u001b[0;34m,\u001b[0m \u001b[0mlist\u001b[0m\u001b[0;34m)\u001b[0m\u001b[0;34m)\u001b[0m\u001b[0;34m:\u001b[0m\u001b[0;34m\u001b[0m\u001b[0;34m\u001b[0m\u001b[0m\n",
      "\u001b[0;32m~/anaconda3/lib/python3.7/site-packages/pandas/core/generic.py\u001b[0m in \u001b[0;36m_get_label_or_level_values\u001b[0;34m(self, key, axis)\u001b[0m\n\u001b[1;32m   1690\u001b[0m             \u001b[0mvalues\u001b[0m \u001b[0;34m=\u001b[0m \u001b[0mself\u001b[0m\u001b[0;34m.\u001b[0m\u001b[0maxes\u001b[0m\u001b[0;34m[\u001b[0m\u001b[0maxis\u001b[0m\u001b[0;34m]\u001b[0m\u001b[0;34m.\u001b[0m\u001b[0mget_level_values\u001b[0m\u001b[0;34m(\u001b[0m\u001b[0mkey\u001b[0m\u001b[0;34m)\u001b[0m\u001b[0;34m.\u001b[0m\u001b[0m_values\u001b[0m\u001b[0;34m\u001b[0m\u001b[0;34m\u001b[0m\u001b[0m\n\u001b[1;32m   1691\u001b[0m         \u001b[0;32melse\u001b[0m\u001b[0;34m:\u001b[0m\u001b[0;34m\u001b[0m\u001b[0;34m\u001b[0m\u001b[0m\n\u001b[0;32m-> 1692\u001b[0;31m             \u001b[0;32mraise\u001b[0m \u001b[0mKeyError\u001b[0m\u001b[0;34m(\u001b[0m\u001b[0mkey\u001b[0m\u001b[0;34m)\u001b[0m\u001b[0;34m\u001b[0m\u001b[0;34m\u001b[0m\u001b[0m\n\u001b[0m\u001b[1;32m   1693\u001b[0m \u001b[0;34m\u001b[0m\u001b[0m\n\u001b[1;32m   1694\u001b[0m         \u001b[0;31m# Check for duplicates\u001b[0m\u001b[0;34m\u001b[0m\u001b[0;34m\u001b[0m\u001b[0;34m\u001b[0m\u001b[0m\n",
      "\u001b[0;31mKeyError\u001b[0m: 'response time'"
     ]
    }
   ],
   "source": [
    "df_gleb.sort_values('response time')"
   ]
  },
  {
   "cell_type": "code",
   "execution_count": 36,
   "metadata": {},
   "outputs": [],
   "source": [
    "df_lag = pd.concat([df_gleb,df_nacho]).sort_values('id')"
   ]
  },
  {
   "cell_type": "code",
   "execution_count": 37,
   "metadata": {},
   "outputs": [
    {
     "data": {
      "text/html": [
       "<div>\n",
       "<style scoped>\n",
       "    .dataframe tbody tr th:only-of-type {\n",
       "        vertical-align: middle;\n",
       "    }\n",
       "\n",
       "    .dataframe tbody tr th {\n",
       "        vertical-align: top;\n",
       "    }\n",
       "\n",
       "    .dataframe thead th {\n",
       "        text-align: right;\n",
       "    }\n",
       "</style>\n",
       "<table border=\"1\" class=\"dataframe\">\n",
       "  <thead>\n",
       "    <tr style=\"text-align: right;\">\n",
       "      <th></th>\n",
       "      <th>id</th>\n",
       "      <th>user</th>\n",
       "      <th>message</th>\n",
       "      <th>year</th>\n",
       "      <th>month</th>\n",
       "      <th>week</th>\n",
       "      <th>day</th>\n",
       "      <th>dayweek</th>\n",
       "      <th>hour</th>\n",
       "      <th>minute</th>\n",
       "      <th>emoji_count</th>\n",
       "      <th>media</th>\n",
       "      <th>words_count</th>\n",
       "      <th>date2</th>\n",
       "      <th>lag</th>\n",
       "    </tr>\n",
       "    <tr>\n",
       "      <th>date</th>\n",
       "      <th></th>\n",
       "      <th></th>\n",
       "      <th></th>\n",
       "      <th></th>\n",
       "      <th></th>\n",
       "      <th></th>\n",
       "      <th></th>\n",
       "      <th></th>\n",
       "      <th></th>\n",
       "      <th></th>\n",
       "      <th></th>\n",
       "      <th></th>\n",
       "      <th></th>\n",
       "      <th></th>\n",
       "      <th></th>\n",
       "    </tr>\n",
       "  </thead>\n",
       "  <tbody>\n",
       "    <tr>\n",
       "      <th>2020-11-01 14:35:00</th>\n",
       "      <td>35453</td>\n",
       "      <td>Nacho</td>\n",
       "      <td>Creo que voy a salir bien parado</td>\n",
       "      <td>2020</td>\n",
       "      <td>11</td>\n",
       "      <td>44</td>\n",
       "      <td>1</td>\n",
       "      <td>6</td>\n",
       "      <td>14</td>\n",
       "      <td>35</td>\n",
       "      <td>0</td>\n",
       "      <td>0</td>\n",
       "      <td>8</td>\n",
       "      <td>2020-11-01 14:35:00</td>\n",
       "      <td>NaT</td>\n",
       "    </tr>\n",
       "    <tr>\n",
       "      <th>2020-11-01 15:01:00</th>\n",
       "      <td>35454</td>\n",
       "      <td>Gleb Uni</td>\n",
       "      <td>Hell yeah</td>\n",
       "      <td>2020</td>\n",
       "      <td>11</td>\n",
       "      <td>44</td>\n",
       "      <td>1</td>\n",
       "      <td>6</td>\n",
       "      <td>15</td>\n",
       "      <td>1</td>\n",
       "      <td>0</td>\n",
       "      <td>0</td>\n",
       "      <td>3</td>\n",
       "      <td>2020-11-01 15:01:00</td>\n",
       "      <td>NaT</td>\n",
       "    </tr>\n",
       "    <tr>\n",
       "      <th>2020-11-01 15:01:00</th>\n",
       "      <td>35455</td>\n",
       "      <td>Gleb Uni</td>\n",
       "      <td>Cómo llevas el examen guarro?</td>\n",
       "      <td>2020</td>\n",
       "      <td>11</td>\n",
       "      <td>44</td>\n",
       "      <td>1</td>\n",
       "      <td>6</td>\n",
       "      <td>15</td>\n",
       "      <td>1</td>\n",
       "      <td>0</td>\n",
       "      <td>0</td>\n",
       "      <td>6</td>\n",
       "      <td>2020-11-01 15:01:00</td>\n",
       "      <td>NaT</td>\n",
       "    </tr>\n",
       "    <tr>\n",
       "      <th>2020-11-01 16:02:00</th>\n",
       "      <td>35456</td>\n",
       "      <td>Nacho</td>\n",
       "      <td>Pues son varios modelos de creximiento</td>\n",
       "      <td>2020</td>\n",
       "      <td>11</td>\n",
       "      <td>44</td>\n",
       "      <td>1</td>\n",
       "      <td>6</td>\n",
       "      <td>16</td>\n",
       "      <td>2</td>\n",
       "      <td>0</td>\n",
       "      <td>0</td>\n",
       "      <td>7</td>\n",
       "      <td>2020-11-01 16:02:00</td>\n",
       "      <td>NaT</td>\n",
       "    </tr>\n",
       "    <tr>\n",
       "      <th>2020-11-01 16:02:00</th>\n",
       "      <td>35457</td>\n",
       "      <td>Nacho</td>\n",
       "      <td>Que sé como se comportan pero me falta alguna...</td>\n",
       "      <td>2020</td>\n",
       "      <td>11</td>\n",
       "      <td>44</td>\n",
       "      <td>1</td>\n",
       "      <td>6</td>\n",
       "      <td>16</td>\n",
       "      <td>2</td>\n",
       "      <td>0</td>\n",
       "      <td>0</td>\n",
       "      <td>11</td>\n",
       "      <td>2020-11-01 16:02:00</td>\n",
       "      <td>NaT</td>\n",
       "    </tr>\n",
       "    <tr>\n",
       "      <th>2020-11-01 16:02:00</th>\n",
       "      <td>35458</td>\n",
       "      <td>Nacho</td>\n",
       "      <td>Me falta practica y problemas</td>\n",
       "      <td>2020</td>\n",
       "      <td>11</td>\n",
       "      <td>44</td>\n",
       "      <td>1</td>\n",
       "      <td>6</td>\n",
       "      <td>16</td>\n",
       "      <td>2</td>\n",
       "      <td>0</td>\n",
       "      <td>0</td>\n",
       "      <td>6</td>\n",
       "      <td>2020-11-01 16:02:00</td>\n",
       "      <td>NaT</td>\n",
       "    </tr>\n",
       "    <tr>\n",
       "      <th>2020-11-01 16:02:00</th>\n",
       "      <td>35459</td>\n",
       "      <td>Nacho</td>\n",
       "      <td>Es el lunes a las 18</td>\n",
       "      <td>2020</td>\n",
       "      <td>11</td>\n",
       "      <td>44</td>\n",
       "      <td>1</td>\n",
       "      <td>6</td>\n",
       "      <td>16</td>\n",
       "      <td>2</td>\n",
       "      <td>0</td>\n",
       "      <td>0</td>\n",
       "      <td>7</td>\n",
       "      <td>2020-11-01 16:02:00</td>\n",
       "      <td>NaT</td>\n",
       "    </tr>\n",
       "    <tr>\n",
       "      <th>2020-11-01 16:02:00</th>\n",
       "      <td>35460</td>\n",
       "      <td>Nacho</td>\n",
       "      <td>Confío poder hacerlo</td>\n",
       "      <td>2020</td>\n",
       "      <td>11</td>\n",
       "      <td>44</td>\n",
       "      <td>1</td>\n",
       "      <td>6</td>\n",
       "      <td>16</td>\n",
       "      <td>2</td>\n",
       "      <td>0</td>\n",
       "      <td>0</td>\n",
       "      <td>4</td>\n",
       "      <td>2020-11-01 16:02:00</td>\n",
       "      <td>NaT</td>\n",
       "    </tr>\n",
       "    <tr>\n",
       "      <th>2020-12-01 13:06:00</th>\n",
       "      <td>35461</td>\n",
       "      <td>Nacho</td>\n",
       "      <td>&lt;Multimedia omitido&gt;</td>\n",
       "      <td>2020</td>\n",
       "      <td>12</td>\n",
       "      <td>49</td>\n",
       "      <td>1</td>\n",
       "      <td>1</td>\n",
       "      <td>13</td>\n",
       "      <td>6</td>\n",
       "      <td>0</td>\n",
       "      <td>1</td>\n",
       "      <td>3</td>\n",
       "      <td>2020-12-01 13:06:00</td>\n",
       "      <td>NaT</td>\n",
       "    </tr>\n",
       "    <tr>\n",
       "      <th>2020-12-01 13:14:00</th>\n",
       "      <td>35462</td>\n",
       "      <td>Gleb Uni</td>\n",
       "      <td>Yeah biitch</td>\n",
       "      <td>2020</td>\n",
       "      <td>12</td>\n",
       "      <td>49</td>\n",
       "      <td>1</td>\n",
       "      <td>1</td>\n",
       "      <td>13</td>\n",
       "      <td>14</td>\n",
       "      <td>0</td>\n",
       "      <td>0</td>\n",
       "      <td>3</td>\n",
       "      <td>2020-12-01 13:14:00</td>\n",
       "      <td>NaT</td>\n",
       "    </tr>\n",
       "    <tr>\n",
       "      <th>2020-12-01 13:14:00</th>\n",
       "      <td>35463</td>\n",
       "      <td>Gleb Uni</td>\n",
       "      <td>Lo haras</td>\n",
       "      <td>2020</td>\n",
       "      <td>12</td>\n",
       "      <td>49</td>\n",
       "      <td>1</td>\n",
       "      <td>1</td>\n",
       "      <td>13</td>\n",
       "      <td>14</td>\n",
       "      <td>0</td>\n",
       "      <td>0</td>\n",
       "      <td>3</td>\n",
       "      <td>2020-12-01 13:14:00</td>\n",
       "      <td>NaT</td>\n",
       "    </tr>\n",
       "    <tr>\n",
       "      <th>2020-01-13 04:16:00</th>\n",
       "      <td>35464</td>\n",
       "      <td>Gleb Uni</td>\n",
       "      <td>&lt;Multimedia omitido&gt;</td>\n",
       "      <td>2020</td>\n",
       "      <td>1</td>\n",
       "      <td>3</td>\n",
       "      <td>13</td>\n",
       "      <td>0</td>\n",
       "      <td>4</td>\n",
       "      <td>16</td>\n",
       "      <td>0</td>\n",
       "      <td>1</td>\n",
       "      <td>3</td>\n",
       "      <td>2020-01-13 04:16:00</td>\n",
       "      <td>NaT</td>\n",
       "    </tr>\n",
       "    <tr>\n",
       "      <th>2020-01-13 07:27:00</th>\n",
       "      <td>35465</td>\n",
       "      <td>Nacho</td>\n",
       "      <td>Jajajaja esa teoría la leí por ahí yo también</td>\n",
       "      <td>2020</td>\n",
       "      <td>1</td>\n",
       "      <td>3</td>\n",
       "      <td>13</td>\n",
       "      <td>0</td>\n",
       "      <td>7</td>\n",
       "      <td>27</td>\n",
       "      <td>0</td>\n",
       "      <td>0</td>\n",
       "      <td>10</td>\n",
       "      <td>2020-01-13 07:27:00</td>\n",
       "      <td>NaT</td>\n",
       "    </tr>\n",
       "    <tr>\n",
       "      <th>2020-01-13 11:11:00</th>\n",
       "      <td>35466</td>\n",
       "      <td>Gleb Uni</td>\n",
       "      <td>😂</td>\n",
       "      <td>2020</td>\n",
       "      <td>1</td>\n",
       "      <td>3</td>\n",
       "      <td>13</td>\n",
       "      <td>0</td>\n",
       "      <td>11</td>\n",
       "      <td>11</td>\n",
       "      <td>1</td>\n",
       "      <td>0</td>\n",
       "      <td>2</td>\n",
       "      <td>2020-01-13 11:11:00</td>\n",
       "      <td>NaT</td>\n",
       "    </tr>\n",
       "    <tr>\n",
       "      <th>2020-01-13 13:57:00</th>\n",
       "      <td>35467</td>\n",
       "      <td>Gleb Uni</td>\n",
       "      <td>&lt;Multimedia omitido&gt;</td>\n",
       "      <td>2020</td>\n",
       "      <td>1</td>\n",
       "      <td>3</td>\n",
       "      <td>13</td>\n",
       "      <td>0</td>\n",
       "      <td>13</td>\n",
       "      <td>57</td>\n",
       "      <td>0</td>\n",
       "      <td>1</td>\n",
       "      <td>3</td>\n",
       "      <td>2020-01-13 13:57:00</td>\n",
       "      <td>NaT</td>\n",
       "    </tr>\n",
       "    <tr>\n",
       "      <th>2020-01-13 13:57:00</th>\n",
       "      <td>35468</td>\n",
       "      <td>Gleb Uni</td>\n",
       "      <td>&lt;Multimedia omitido&gt;</td>\n",
       "      <td>2020</td>\n",
       "      <td>1</td>\n",
       "      <td>3</td>\n",
       "      <td>13</td>\n",
       "      <td>0</td>\n",
       "      <td>13</td>\n",
       "      <td>57</td>\n",
       "      <td>0</td>\n",
       "      <td>1</td>\n",
       "      <td>3</td>\n",
       "      <td>2020-01-13 13:57:00</td>\n",
       "      <td>NaT</td>\n",
       "    </tr>\n",
       "    <tr>\n",
       "      <th>2020-01-13 13:58:00</th>\n",
       "      <td>35469</td>\n",
       "      <td>Nacho</td>\n",
       "      <td>&lt;Multimedia omitido&gt;</td>\n",
       "      <td>2020</td>\n",
       "      <td>1</td>\n",
       "      <td>3</td>\n",
       "      <td>13</td>\n",
       "      <td>0</td>\n",
       "      <td>13</td>\n",
       "      <td>58</td>\n",
       "      <td>0</td>\n",
       "      <td>1</td>\n",
       "      <td>3</td>\n",
       "      <td>2020-01-13 13:58:00</td>\n",
       "      <td>NaT</td>\n",
       "    </tr>\n",
       "    <tr>\n",
       "      <th>2020-01-13 13:59:00</th>\n",
       "      <td>35470</td>\n",
       "      <td>Nacho</td>\n",
       "      <td>Ayyy el el parado</td>\n",
       "      <td>2020</td>\n",
       "      <td>1</td>\n",
       "      <td>3</td>\n",
       "      <td>13</td>\n",
       "      <td>0</td>\n",
       "      <td>13</td>\n",
       "      <td>59</td>\n",
       "      <td>0</td>\n",
       "      <td>0</td>\n",
       "      <td>5</td>\n",
       "      <td>2020-01-13 13:59:00</td>\n",
       "      <td>NaT</td>\n",
       "    </tr>\n",
       "    <tr>\n",
       "      <th>2020-01-13 13:59:00</th>\n",
       "      <td>35471</td>\n",
       "      <td>Nacho</td>\n",
       "      <td>Jajajajaa</td>\n",
       "      <td>2020</td>\n",
       "      <td>1</td>\n",
       "      <td>3</td>\n",
       "      <td>13</td>\n",
       "      <td>0</td>\n",
       "      <td>13</td>\n",
       "      <td>59</td>\n",
       "      <td>0</td>\n",
       "      <td>0</td>\n",
       "      <td>2</td>\n",
       "      <td>2020-01-13 13:59:00</td>\n",
       "      <td>NaT</td>\n",
       "    </tr>\n",
       "    <tr>\n",
       "      <th>2020-01-13 13:59:00</th>\n",
       "      <td>35472</td>\n",
       "      <td>Nacho</td>\n",
       "      <td>Vaya gozaadaa lo de ir a hacer deporte aa la ...</td>\n",
       "      <td>2020</td>\n",
       "      <td>1</td>\n",
       "      <td>3</td>\n",
       "      <td>13</td>\n",
       "      <td>0</td>\n",
       "      <td>13</td>\n",
       "      <td>59</td>\n",
       "      <td>0</td>\n",
       "      <td>0</td>\n",
       "      <td>13</td>\n",
       "      <td>2020-01-13 13:59:00</td>\n",
       "      <td>NaT</td>\n",
       "    </tr>\n",
       "    <tr>\n",
       "      <th>2020-01-13 13:59:00</th>\n",
       "      <td>35473</td>\n",
       "      <td>Nacho</td>\n",
       "      <td>Me hace gracia porque al ser de playa, en mad...</td>\n",
       "      <td>2020</td>\n",
       "      <td>1</td>\n",
       "      <td>3</td>\n",
       "      <td>13</td>\n",
       "      <td>0</td>\n",
       "      <td>13</td>\n",
       "      <td>59</td>\n",
       "      <td>0</td>\n",
       "      <td>0</td>\n",
       "      <td>23</td>\n",
       "      <td>2020-01-13 13:59:00</td>\n",
       "      <td>NaT</td>\n",
       "    </tr>\n",
       "    <tr>\n",
       "      <th>2020-01-13 14:00:00</th>\n",
       "      <td>35474</td>\n",
       "      <td>Nacho</td>\n",
       "      <td>Eso implica que quizás te veas echando raíces...</td>\n",
       "      <td>2020</td>\n",
       "      <td>1</td>\n",
       "      <td>3</td>\n",
       "      <td>13</td>\n",
       "      <td>0</td>\n",
       "      <td>14</td>\n",
       "      <td>0</td>\n",
       "      <td>1</td>\n",
       "      <td>0</td>\n",
       "      <td>23</td>\n",
       "      <td>2020-01-13 14:00:00</td>\n",
       "      <td>NaT</td>\n",
       "    </tr>\n",
       "    <tr>\n",
       "      <th>2020-01-13 14:01:00</th>\n",
       "      <td>35475</td>\n",
       "      <td>Gleb Uni</td>\n",
       "      <td>&lt;Multimedia omitido&gt;</td>\n",
       "      <td>2020</td>\n",
       "      <td>1</td>\n",
       "      <td>3</td>\n",
       "      <td>13</td>\n",
       "      <td>0</td>\n",
       "      <td>14</td>\n",
       "      <td>1</td>\n",
       "      <td>0</td>\n",
       "      <td>1</td>\n",
       "      <td>3</td>\n",
       "      <td>2020-01-13 14:01:00</td>\n",
       "      <td>NaT</td>\n",
       "    </tr>\n",
       "    <tr>\n",
       "      <th>2020-01-13 14:02:00</th>\n",
       "      <td>35476</td>\n",
       "      <td>Gleb Uni</td>\n",
       "      <td>&lt;Multimedia omitido&gt;</td>\n",
       "      <td>2020</td>\n",
       "      <td>1</td>\n",
       "      <td>3</td>\n",
       "      <td>13</td>\n",
       "      <td>0</td>\n",
       "      <td>14</td>\n",
       "      <td>2</td>\n",
       "      <td>0</td>\n",
       "      <td>1</td>\n",
       "      <td>3</td>\n",
       "      <td>2020-01-13 14:02:00</td>\n",
       "      <td>NaT</td>\n",
       "    </tr>\n",
       "    <tr>\n",
       "      <th>2020-01-13 14:02:00</th>\n",
       "      <td>35477</td>\n",
       "      <td>Gleb Uni</td>\n",
       "      <td>Me lo paso como un crío</td>\n",
       "      <td>2020</td>\n",
       "      <td>1</td>\n",
       "      <td>3</td>\n",
       "      <td>13</td>\n",
       "      <td>0</td>\n",
       "      <td>14</td>\n",
       "      <td>2</td>\n",
       "      <td>0</td>\n",
       "      <td>0</td>\n",
       "      <td>7</td>\n",
       "      <td>2020-01-13 14:02:00</td>\n",
       "      <td>NaT</td>\n",
       "    </tr>\n",
       "    <tr>\n",
       "      <th>2020-01-13 14:03:00</th>\n",
       "      <td>35478</td>\n",
       "      <td>Gleb Uni</td>\n",
       "      <td>Con la musiquita</td>\n",
       "      <td>2020</td>\n",
       "      <td>1</td>\n",
       "      <td>3</td>\n",
       "      <td>13</td>\n",
       "      <td>0</td>\n",
       "      <td>14</td>\n",
       "      <td>3</td>\n",
       "      <td>0</td>\n",
       "      <td>0</td>\n",
       "      <td>4</td>\n",
       "      <td>2020-01-13 14:03:00</td>\n",
       "      <td>NaT</td>\n",
       "    </tr>\n",
       "    <tr>\n",
       "      <th>2020-01-13 14:05:00</th>\n",
       "      <td>35479</td>\n",
       "      <td>Nacho</td>\n",
       "      <td>A ver si vas a hacer un curso online.... No s...</td>\n",
       "      <td>2020</td>\n",
       "      <td>1</td>\n",
       "      <td>3</td>\n",
       "      <td>13</td>\n",
       "      <td>0</td>\n",
       "      <td>14</td>\n",
       "      <td>5</td>\n",
       "      <td>0</td>\n",
       "      <td>0</td>\n",
       "      <td>17</td>\n",
       "      <td>2020-01-13 14:05:00</td>\n",
       "      <td>NaT</td>\n",
       "    </tr>\n",
       "  </tbody>\n",
       "</table>\n",
       "</div>"
      ],
      "text/plain": [
       "                        id      user  \\\n",
       "date                                   \n",
       "2020-11-01 14:35:00  35453     Nacho   \n",
       "2020-11-01 15:01:00  35454  Gleb Uni   \n",
       "2020-11-01 15:01:00  35455  Gleb Uni   \n",
       "2020-11-01 16:02:00  35456     Nacho   \n",
       "2020-11-01 16:02:00  35457     Nacho   \n",
       "2020-11-01 16:02:00  35458     Nacho   \n",
       "2020-11-01 16:02:00  35459     Nacho   \n",
       "2020-11-01 16:02:00  35460     Nacho   \n",
       "2020-12-01 13:06:00  35461     Nacho   \n",
       "2020-12-01 13:14:00  35462  Gleb Uni   \n",
       "2020-12-01 13:14:00  35463  Gleb Uni   \n",
       "2020-01-13 04:16:00  35464  Gleb Uni   \n",
       "2020-01-13 07:27:00  35465     Nacho   \n",
       "2020-01-13 11:11:00  35466  Gleb Uni   \n",
       "2020-01-13 13:57:00  35467  Gleb Uni   \n",
       "2020-01-13 13:57:00  35468  Gleb Uni   \n",
       "2020-01-13 13:58:00  35469     Nacho   \n",
       "2020-01-13 13:59:00  35470     Nacho   \n",
       "2020-01-13 13:59:00  35471     Nacho   \n",
       "2020-01-13 13:59:00  35472     Nacho   \n",
       "2020-01-13 13:59:00  35473     Nacho   \n",
       "2020-01-13 14:00:00  35474     Nacho   \n",
       "2020-01-13 14:01:00  35475  Gleb Uni   \n",
       "2020-01-13 14:02:00  35476  Gleb Uni   \n",
       "2020-01-13 14:02:00  35477  Gleb Uni   \n",
       "2020-01-13 14:03:00  35478  Gleb Uni   \n",
       "2020-01-13 14:05:00  35479     Nacho   \n",
       "\n",
       "                                                               message  year  \\\n",
       "date                                                                           \n",
       "2020-11-01 14:35:00                   Creo que voy a salir bien parado  2020   \n",
       "2020-11-01 15:01:00                                          Hell yeah  2020   \n",
       "2020-11-01 15:01:00                      Cómo llevas el examen guarro?  2020   \n",
       "2020-11-01 16:02:00             Pues son varios modelos de creximiento  2020   \n",
       "2020-11-01 16:02:00   Que sé como se comportan pero me falta alguna...  2020   \n",
       "2020-11-01 16:02:00                      Me falta practica y problemas  2020   \n",
       "2020-11-01 16:02:00                               Es el lunes a las 18  2020   \n",
       "2020-11-01 16:02:00                               Confío poder hacerlo  2020   \n",
       "2020-12-01 13:06:00                               <Multimedia omitido>  2020   \n",
       "2020-12-01 13:14:00                                        Yeah biitch  2020   \n",
       "2020-12-01 13:14:00                                           Lo haras  2020   \n",
       "2020-01-13 04:16:00                               <Multimedia omitido>  2020   \n",
       "2020-01-13 07:27:00      Jajajaja esa teoría la leí por ahí yo también  2020   \n",
       "2020-01-13 11:11:00                                                  😂  2020   \n",
       "2020-01-13 13:57:00                               <Multimedia omitido>  2020   \n",
       "2020-01-13 13:57:00                               <Multimedia omitido>  2020   \n",
       "2020-01-13 13:58:00                               <Multimedia omitido>  2020   \n",
       "2020-01-13 13:59:00                                  Ayyy el el parado  2020   \n",
       "2020-01-13 13:59:00                                          Jajajajaa  2020   \n",
       "2020-01-13 13:59:00   Vaya gozaadaa lo de ir a hacer deporte aa la ...  2020   \n",
       "2020-01-13 13:59:00   Me hace gracia porque al ser de playa, en mad...  2020   \n",
       "2020-01-13 14:00:00   Eso implica que quizás te veas echando raíces...  2020   \n",
       "2020-01-13 14:01:00                               <Multimedia omitido>  2020   \n",
       "2020-01-13 14:02:00                               <Multimedia omitido>  2020   \n",
       "2020-01-13 14:02:00                            Me lo paso como un crío  2020   \n",
       "2020-01-13 14:03:00                                   Con la musiquita  2020   \n",
       "2020-01-13 14:05:00   A ver si vas a hacer un curso online.... No s...  2020   \n",
       "\n",
       "                     month  week  day  dayweek  hour  minute  emoji_count  \\\n",
       "date                                                                        \n",
       "2020-11-01 14:35:00     11    44    1        6    14      35            0   \n",
       "2020-11-01 15:01:00     11    44    1        6    15       1            0   \n",
       "2020-11-01 15:01:00     11    44    1        6    15       1            0   \n",
       "2020-11-01 16:02:00     11    44    1        6    16       2            0   \n",
       "2020-11-01 16:02:00     11    44    1        6    16       2            0   \n",
       "2020-11-01 16:02:00     11    44    1        6    16       2            0   \n",
       "2020-11-01 16:02:00     11    44    1        6    16       2            0   \n",
       "2020-11-01 16:02:00     11    44    1        6    16       2            0   \n",
       "2020-12-01 13:06:00     12    49    1        1    13       6            0   \n",
       "2020-12-01 13:14:00     12    49    1        1    13      14            0   \n",
       "2020-12-01 13:14:00     12    49    1        1    13      14            0   \n",
       "2020-01-13 04:16:00      1     3   13        0     4      16            0   \n",
       "2020-01-13 07:27:00      1     3   13        0     7      27            0   \n",
       "2020-01-13 11:11:00      1     3   13        0    11      11            1   \n",
       "2020-01-13 13:57:00      1     3   13        0    13      57            0   \n",
       "2020-01-13 13:57:00      1     3   13        0    13      57            0   \n",
       "2020-01-13 13:58:00      1     3   13        0    13      58            0   \n",
       "2020-01-13 13:59:00      1     3   13        0    13      59            0   \n",
       "2020-01-13 13:59:00      1     3   13        0    13      59            0   \n",
       "2020-01-13 13:59:00      1     3   13        0    13      59            0   \n",
       "2020-01-13 13:59:00      1     3   13        0    13      59            0   \n",
       "2020-01-13 14:00:00      1     3   13        0    14       0            1   \n",
       "2020-01-13 14:01:00      1     3   13        0    14       1            0   \n",
       "2020-01-13 14:02:00      1     3   13        0    14       2            0   \n",
       "2020-01-13 14:02:00      1     3   13        0    14       2            0   \n",
       "2020-01-13 14:03:00      1     3   13        0    14       3            0   \n",
       "2020-01-13 14:05:00      1     3   13        0    14       5            0   \n",
       "\n",
       "                     media  words_count               date2 lag  \n",
       "date                                                             \n",
       "2020-11-01 14:35:00      0            8 2020-11-01 14:35:00 NaT  \n",
       "2020-11-01 15:01:00      0            3 2020-11-01 15:01:00 NaT  \n",
       "2020-11-01 15:01:00      0            6 2020-11-01 15:01:00 NaT  \n",
       "2020-11-01 16:02:00      0            7 2020-11-01 16:02:00 NaT  \n",
       "2020-11-01 16:02:00      0           11 2020-11-01 16:02:00 NaT  \n",
       "2020-11-01 16:02:00      0            6 2020-11-01 16:02:00 NaT  \n",
       "2020-11-01 16:02:00      0            7 2020-11-01 16:02:00 NaT  \n",
       "2020-11-01 16:02:00      0            4 2020-11-01 16:02:00 NaT  \n",
       "2020-12-01 13:06:00      1            3 2020-12-01 13:06:00 NaT  \n",
       "2020-12-01 13:14:00      0            3 2020-12-01 13:14:00 NaT  \n",
       "2020-12-01 13:14:00      0            3 2020-12-01 13:14:00 NaT  \n",
       "2020-01-13 04:16:00      1            3 2020-01-13 04:16:00 NaT  \n",
       "2020-01-13 07:27:00      0           10 2020-01-13 07:27:00 NaT  \n",
       "2020-01-13 11:11:00      0            2 2020-01-13 11:11:00 NaT  \n",
       "2020-01-13 13:57:00      1            3 2020-01-13 13:57:00 NaT  \n",
       "2020-01-13 13:57:00      1            3 2020-01-13 13:57:00 NaT  \n",
       "2020-01-13 13:58:00      1            3 2020-01-13 13:58:00 NaT  \n",
       "2020-01-13 13:59:00      0            5 2020-01-13 13:59:00 NaT  \n",
       "2020-01-13 13:59:00      0            2 2020-01-13 13:59:00 NaT  \n",
       "2020-01-13 13:59:00      0           13 2020-01-13 13:59:00 NaT  \n",
       "2020-01-13 13:59:00      0           23 2020-01-13 13:59:00 NaT  \n",
       "2020-01-13 14:00:00      0           23 2020-01-13 14:00:00 NaT  \n",
       "2020-01-13 14:01:00      1            3 2020-01-13 14:01:00 NaT  \n",
       "2020-01-13 14:02:00      1            3 2020-01-13 14:02:00 NaT  \n",
       "2020-01-13 14:02:00      0            7 2020-01-13 14:02:00 NaT  \n",
       "2020-01-13 14:03:00      0            4 2020-01-13 14:03:00 NaT  \n",
       "2020-01-13 14:05:00      0           17 2020-01-13 14:05:00 NaT  "
      ]
     },
     "execution_count": 37,
     "metadata": {},
     "output_type": "execute_result"
    }
   ],
   "source": [
    "df_lag[35453:35480]"
   ]
  },
  {
   "cell_type": "code",
   "execution_count": 38,
   "metadata": {},
   "outputs": [
    {
     "ename": "KeyError",
     "evalue": "'response time'",
     "output_type": "error",
     "traceback": [
      "\u001b[0;31m---------------------------------------------------------------------------\u001b[0m",
      "\u001b[0;31mKeyError\u001b[0m                                  Traceback (most recent call last)",
      "\u001b[0;32m<ipython-input-38-6c70de614e5d>\u001b[0m in \u001b[0;36m<module>\u001b[0;34m\u001b[0m\n\u001b[0;32m----> 1\u001b[0;31m \u001b[0mdf_lag\u001b[0m\u001b[0;34m.\u001b[0m\u001b[0msort_values\u001b[0m\u001b[0;34m(\u001b[0m\u001b[0mby\u001b[0m\u001b[0;34m=\u001b[0m\u001b[0;34m'response time'\u001b[0m\u001b[0;34m,\u001b[0m \u001b[0;34m)\u001b[0m\u001b[0;34m\u001b[0m\u001b[0;34m\u001b[0m\u001b[0m\n\u001b[0m",
      "\u001b[0;32m~/anaconda3/lib/python3.7/site-packages/pandas/core/frame.py\u001b[0m in \u001b[0;36msort_values\u001b[0;34m(self, by, axis, ascending, inplace, kind, na_position, ignore_index)\u001b[0m\n\u001b[1;32m   4925\u001b[0m \u001b[0;34m\u001b[0m\u001b[0m\n\u001b[1;32m   4926\u001b[0m             \u001b[0mby\u001b[0m \u001b[0;34m=\u001b[0m \u001b[0mby\u001b[0m\u001b[0;34m[\u001b[0m\u001b[0;36m0\u001b[0m\u001b[0;34m]\u001b[0m\u001b[0;34m\u001b[0m\u001b[0;34m\u001b[0m\u001b[0m\n\u001b[0;32m-> 4927\u001b[0;31m             \u001b[0mk\u001b[0m \u001b[0;34m=\u001b[0m \u001b[0mself\u001b[0m\u001b[0;34m.\u001b[0m\u001b[0m_get_label_or_level_values\u001b[0m\u001b[0;34m(\u001b[0m\u001b[0mby\u001b[0m\u001b[0;34m,\u001b[0m \u001b[0maxis\u001b[0m\u001b[0;34m=\u001b[0m\u001b[0maxis\u001b[0m\u001b[0;34m)\u001b[0m\u001b[0;34m\u001b[0m\u001b[0;34m\u001b[0m\u001b[0m\n\u001b[0m\u001b[1;32m   4928\u001b[0m \u001b[0;34m\u001b[0m\u001b[0m\n\u001b[1;32m   4929\u001b[0m             \u001b[0;32mif\u001b[0m \u001b[0misinstance\u001b[0m\u001b[0;34m(\u001b[0m\u001b[0mascending\u001b[0m\u001b[0;34m,\u001b[0m \u001b[0;34m(\u001b[0m\u001b[0mtuple\u001b[0m\u001b[0;34m,\u001b[0m \u001b[0mlist\u001b[0m\u001b[0;34m)\u001b[0m\u001b[0;34m)\u001b[0m\u001b[0;34m:\u001b[0m\u001b[0;34m\u001b[0m\u001b[0;34m\u001b[0m\u001b[0m\n",
      "\u001b[0;32m~/anaconda3/lib/python3.7/site-packages/pandas/core/generic.py\u001b[0m in \u001b[0;36m_get_label_or_level_values\u001b[0;34m(self, key, axis)\u001b[0m\n\u001b[1;32m   1690\u001b[0m             \u001b[0mvalues\u001b[0m \u001b[0;34m=\u001b[0m \u001b[0mself\u001b[0m\u001b[0;34m.\u001b[0m\u001b[0maxes\u001b[0m\u001b[0;34m[\u001b[0m\u001b[0maxis\u001b[0m\u001b[0;34m]\u001b[0m\u001b[0;34m.\u001b[0m\u001b[0mget_level_values\u001b[0m\u001b[0;34m(\u001b[0m\u001b[0mkey\u001b[0m\u001b[0;34m)\u001b[0m\u001b[0;34m.\u001b[0m\u001b[0m_values\u001b[0m\u001b[0;34m\u001b[0m\u001b[0;34m\u001b[0m\u001b[0m\n\u001b[1;32m   1691\u001b[0m         \u001b[0;32melse\u001b[0m\u001b[0;34m:\u001b[0m\u001b[0;34m\u001b[0m\u001b[0;34m\u001b[0m\u001b[0m\n\u001b[0;32m-> 1692\u001b[0;31m             \u001b[0;32mraise\u001b[0m \u001b[0mKeyError\u001b[0m\u001b[0;34m(\u001b[0m\u001b[0mkey\u001b[0m\u001b[0;34m)\u001b[0m\u001b[0;34m\u001b[0m\u001b[0;34m\u001b[0m\u001b[0m\n\u001b[0m\u001b[1;32m   1693\u001b[0m \u001b[0;34m\u001b[0m\u001b[0m\n\u001b[1;32m   1694\u001b[0m         \u001b[0;31m# Check for duplicates\u001b[0m\u001b[0;34m\u001b[0m\u001b[0;34m\u001b[0m\u001b[0;34m\u001b[0m\u001b[0m\n",
      "\u001b[0;31mKeyError\u001b[0m: 'response time'"
     ]
    }
   ],
   "source": [
    "df_lag.sort_values(by='response time', )"
   ]
  },
  {
   "cell_type": "code",
   "execution_count": 39,
   "metadata": {},
   "outputs": [
    {
     "data": {
      "text/plain": [
       "date\n",
       "2018-03-14    432\n",
       "2018-05-28    382\n",
       "2018-05-24    373\n",
       "2018-05-23    364\n",
       "2017-09-10    325\n",
       "             ... \n",
       "2019-07-12      0\n",
       "2017-09-30      0\n",
       "2017-09-29      0\n",
       "2019-07-17      0\n",
       "2018-12-22      0\n",
       "Name: user, Length: 1428, dtype: int64"
      ]
     },
     "execution_count": 39,
     "metadata": {},
     "output_type": "execute_result"
    }
   ],
   "source": [
    "df.resample('d'.lower()).count().sort_values('user', ascending=False).loc[:,'user']"
   ]
  },
  {
   "cell_type": "code",
   "execution_count": null,
   "metadata": {},
   "outputs": [],
   "source": [
    "df_nacho.iloc[2089:2098]"
   ]
  },
  {
   "cell_type": "code",
   "execution_count": null,
   "metadata": {},
   "outputs": [],
   "source": [
    "df_nacho.iloc[2089:2098]"
   ]
  },
  {
   "cell_type": "code",
   "execution_count": null,
   "metadata": {},
   "outputs": [],
   "source": []
  },
  {
   "cell_type": "code",
   "execution_count": null,
   "metadata": {},
   "outputs": [],
   "source": [
    "df_gleb['response time'] = (df_gleb.date2 - df_gleb.lag)\n",
    "df_nacho['response time'] = (df_nacho.date2 - df_nacho.lag)"
   ]
  },
  {
   "cell_type": "code",
   "execution_count": null,
   "metadata": {},
   "outputs": [],
   "source": [
    "df_gleb.loc[:,['response time']]"
   ]
  },
  {
   "cell_type": "code",
   "execution_count": null,
   "metadata": {},
   "outputs": [],
   "source": [
    "# mean response time of gleb\n",
    "# I am thinking that the best possible way of getting an accurate response would be to count how many responses\n",
    "# have been executed in the same minute, and from that point, calculate the time that it took to reply based\n",
    "# on the lenght of the message, an 'ok' is 1 second, 'tio pero que quieres decir' is '3seconds', etc\n",
    "\n",
    "# different metrics for \"mean time in between messages\" and \"mean time to respond a request\"\n",
    "# no es lo mismo que nacho me pregunte algo y yo le responda a las dos horas, y calcular el tiempo medio de res-\n",
    "# puesta, que calcular la media sin mas entre mensaje\n",
    "df_gleb.iloc[:,12].mean().total_seconds()"
   ]
  },
  {
   "cell_type": "markdown",
   "metadata": {},
   "source": [
    "### Create the column, replied within 5 minutes and within 1 day"
   ]
  },
  {
   "cell_type": "code",
   "execution_count": 137,
   "metadata": {},
   "outputs": [
    {
     "data": {
      "text/html": [
       "<div>\n",
       "<style scoped>\n",
       "    .dataframe tbody tr th:only-of-type {\n",
       "        vertical-align: middle;\n",
       "    }\n",
       "\n",
       "    .dataframe tbody tr th {\n",
       "        vertical-align: top;\n",
       "    }\n",
       "\n",
       "    .dataframe thead th {\n",
       "        text-align: right;\n",
       "    }\n",
       "</style>\n",
       "<table border=\"1\" class=\"dataframe\">\n",
       "  <thead>\n",
       "    <tr style=\"text-align: right;\">\n",
       "      <th>user</th>\n",
       "      <th>Gleb Uni</th>\n",
       "      <th>Nacho</th>\n",
       "    </tr>\n",
       "  </thead>\n",
       "  <tbody>\n",
       "    <tr>\n",
       "      <th>Total Messages</th>\n",
       "      <td>22202</td>\n",
       "      <td>17797</td>\n",
       "    </tr>\n",
       "    <tr>\n",
       "      <th>% Total Messages</th>\n",
       "      <td>55.51</td>\n",
       "      <td>44.49</td>\n",
       "    </tr>\n",
       "    <tr>\n",
       "      <th>Total Words</th>\n",
       "      <td>116229</td>\n",
       "      <td>124008</td>\n",
       "    </tr>\n",
       "    <tr>\n",
       "      <th>% Total words</th>\n",
       "      <td>48.38</td>\n",
       "      <td>51.62</td>\n",
       "    </tr>\n",
       "    <tr>\n",
       "      <th>Longest word</th>\n",
       "      <td>Jajahajajajajajajajajjajajqjajajajajajq</td>\n",
       "      <td>Wowowowowowowowowowowowowow</td>\n",
       "    </tr>\n",
       "    <tr>\n",
       "      <th>Most words</th>\n",
       "      <td>1582 (2018-03-14)</td>\n",
       "      <td>1376 (2018-03-14)</td>\n",
       "    </tr>\n",
       "    <tr>\n",
       "      <th>Most messages</th>\n",
       "      <td>283 (2018-03-14)</td>\n",
       "      <td>151 (2018-05-23)</td>\n",
       "    </tr>\n",
       "    <tr>\n",
       "      <th>Total emojis used</th>\n",
       "      <td>1156</td>\n",
       "      <td>147</td>\n",
       "    </tr>\n",
       "  </tbody>\n",
       "</table>\n",
       "</div>"
      ],
      "text/plain": [
       "user                                              Gleb Uni  \\\n",
       "Total Messages                                       22202   \n",
       "% Total Messages                                     55.51   \n",
       "Total Words                                         116229   \n",
       "% Total words                                        48.38   \n",
       "Longest word       Jajahajajajajajajajajjajajqjajajajajajq   \n",
       "Most words                               1582 (2018-03-14)   \n",
       "Most messages                             283 (2018-03-14)   \n",
       "Total emojis used                                     1156   \n",
       "\n",
       "user                                     Nacho  \n",
       "Total Messages                           17797  \n",
       "% Total Messages                         44.49  \n",
       "Total Words                             124008  \n",
       "% Total words                            51.62  \n",
       "Longest word       Wowowowowowowowowowowowowow  \n",
       "Most words                   1376 (2018-03-14)  \n",
       "Most messages                 151 (2018-05-23)  \n",
       "Total emojis used                          147  "
      ]
     },
     "execution_count": 137,
     "metadata": {},
     "output_type": "execute_result"
    }
   ],
   "source": [
    "from methods import *\n",
    "\n",
    "statistics_users(df)"
   ]
  },
  {
   "cell_type": "markdown",
   "metadata": {},
   "source": [
    "## Tengo que solucionar el tema de que se buguea y se lia con usuario y con el indice,\n",
    "## creo que siempre deberiamos ordenar los users para que eso no pase"
   ]
  },
  {
   "cell_type": "code",
   "execution_count": 42,
   "metadata": {},
   "outputs": [],
   "source": [
    "xmess, words = most_words(df)"
   ]
  },
  {
   "cell_type": "code",
   "execution_count": 40,
   "metadata": {},
   "outputs": [],
   "source": [
    "mess.update(words)"
   ]
  },
  {
   "cell_type": "code",
   "execution_count": null,
   "metadata": {},
   "outputs": [],
   "source": [
    "df.index"
   ]
  },
  {
   "cell_type": "code",
   "execution_count": null,
   "metadata": {},
   "outputs": [],
   "source": [
    "df.groupby(df.index.floor('d')).size().index"
   ]
  },
  {
   "cell_type": "code",
   "execution_count": null,
   "metadata": {},
   "outputs": [],
   "source": [
    "pd.DataFrame(df.words_count.resample('d').sum())"
   ]
  },
  {
   "cell_type": "code",
   "execution_count": null,
   "metadata": {},
   "outputs": [],
   "source": []
  },
  {
   "cell_type": "code",
   "execution_count": null,
   "metadata": {},
   "outputs": [],
   "source": [
    "#this is a not very cool way of getting the maximum words count per day\n",
    "# but works\n",
    "df.groupby(['dmy', 'user']).sum().sort_values('words_count')"
   ]
  },
  {
   "cell_type": "code",
   "execution_count": null,
   "metadata": {},
   "outputs": [],
   "source": [
    "df.groupby(['dmy', 'user']).count().sort_values('message')"
   ]
  },
  {
   "cell_type": "code",
   "execution_count": null,
   "metadata": {},
   "outputs": [],
   "source": [
    "df.groupby('dmy').sum().sort_values('words_count').iloc[-1].name"
   ]
  },
  {
   "cell_type": "code",
   "execution_count": null,
   "metadata": {},
   "outputs": [],
   "source": [
    "pd.to_datetime('14/3/2018').day"
   ]
  },
  {
   "cell_type": "code",
   "execution_count": null,
   "metadata": {},
   "outputs": [],
   "source": []
  },
  {
   "cell_type": "code",
   "execution_count": null,
   "metadata": {},
   "outputs": [],
   "source": [
    "df.resample('d').sum().sort_index()"
   ]
  },
  {
   "cell_type": "code",
   "execution_count": null,
   "metadata": {},
   "outputs": [],
   "source": [
    "df[0:1]"
   ]
  },
  {
   "cell_type": "code",
   "execution_count": null,
   "metadata": {},
   "outputs": [],
   "source": [
    "df['dmy'] = df.day.astype(str) + '/' + df.month.astype(str) + '/' + df.year.astype(str)"
   ]
  },
  {
   "cell_type": "code",
   "execution_count": null,
   "metadata": {},
   "outputs": [],
   "source": [
    "df"
   ]
  },
  {
   "cell_type": "code",
   "execution_count": null,
   "metadata": {},
   "outputs": [],
   "source": []
  },
  {
   "cell_type": "markdown",
   "metadata": {},
   "source": [
    "## Graphs"
   ]
  },
  {
   "cell_type": "code",
   "execution_count": 138,
   "metadata": {},
   "outputs": [],
   "source": [
    "from charts import *"
   ]
  },
  {
   "cell_type": "code",
   "execution_count": 141,
   "metadata": {},
   "outputs": [
    {
     "data": {
      "text/html": [
       "<div>\n",
       "<style scoped>\n",
       "    .dataframe tbody tr th:only-of-type {\n",
       "        vertical-align: middle;\n",
       "    }\n",
       "\n",
       "    .dataframe tbody tr th {\n",
       "        vertical-align: top;\n",
       "    }\n",
       "\n",
       "    .dataframe thead th {\n",
       "        text-align: right;\n",
       "    }\n",
       "</style>\n",
       "<table border=\"1\" class=\"dataframe\">\n",
       "  <thead>\n",
       "    <tr style=\"text-align: right;\">\n",
       "      <th></th>\n",
       "      <th>id</th>\n",
       "      <th>user</th>\n",
       "      <th>message</th>\n",
       "      <th>year</th>\n",
       "      <th>month</th>\n",
       "      <th>week</th>\n",
       "      <th>day</th>\n",
       "      <th>dayweek</th>\n",
       "      <th>hour</th>\n",
       "      <th>minute</th>\n",
       "      <th>emoji_count</th>\n",
       "      <th>media</th>\n",
       "      <th>words_count</th>\n",
       "    </tr>\n",
       "    <tr>\n",
       "      <th>date</th>\n",
       "      <th></th>\n",
       "      <th></th>\n",
       "      <th></th>\n",
       "      <th></th>\n",
       "      <th></th>\n",
       "      <th></th>\n",
       "      <th></th>\n",
       "      <th></th>\n",
       "      <th></th>\n",
       "      <th></th>\n",
       "      <th></th>\n",
       "      <th></th>\n",
       "      <th></th>\n",
       "    </tr>\n",
       "  </thead>\n",
       "  <tbody>\n",
       "    <tr>\n",
       "      <th>2017-06-19 18:27:00</th>\n",
       "      <td>0</td>\n",
       "      <td>Gleb Uni</td>\n",
       "      <td>Con buenas vibras y concentración easy</td>\n",
       "      <td>2017</td>\n",
       "      <td>6</td>\n",
       "      <td>25</td>\n",
       "      <td>19</td>\n",
       "      <td>0</td>\n",
       "      <td>18</td>\n",
       "      <td>27</td>\n",
       "      <td>0</td>\n",
       "      <td>0</td>\n",
       "      <td>7</td>\n",
       "    </tr>\n",
       "    <tr>\n",
       "      <th>2017-06-19 18:27:00</th>\n",
       "      <td>1</td>\n",
       "      <td>Nacho</td>\n",
       "      <td>Sii</td>\n",
       "      <td>2017</td>\n",
       "      <td>6</td>\n",
       "      <td>25</td>\n",
       "      <td>19</td>\n",
       "      <td>0</td>\n",
       "      <td>18</td>\n",
       "      <td>27</td>\n",
       "      <td>0</td>\n",
       "      <td>0</td>\n",
       "      <td>2</td>\n",
       "    </tr>\n",
       "    <tr>\n",
       "      <th>2017-06-19 18:28:00</th>\n",
       "      <td>2</td>\n",
       "      <td>Nacho</td>\n",
       "      <td>De esto, basicamente pienso que cuando tu sab...</td>\n",
       "      <td>2017</td>\n",
       "      <td>6</td>\n",
       "      <td>25</td>\n",
       "      <td>19</td>\n",
       "      <td>0</td>\n",
       "      <td>18</td>\n",
       "      <td>28</td>\n",
       "      <td>0</td>\n",
       "      <td>0</td>\n",
       "      <td>46</td>\n",
       "    </tr>\n",
       "    <tr>\n",
       "      <th>2017-06-19 18:28:00</th>\n",
       "      <td>3</td>\n",
       "      <td>Nacho</td>\n",
       "      <td>Es decir, se trstaria de evaluar un producto ...</td>\n",
       "      <td>2017</td>\n",
       "      <td>6</td>\n",
       "      <td>25</td>\n",
       "      <td>19</td>\n",
       "      <td>0</td>\n",
       "      <td>18</td>\n",
       "      <td>28</td>\n",
       "      <td>0</td>\n",
       "      <td>0</td>\n",
       "      <td>19</td>\n",
       "    </tr>\n",
       "    <tr>\n",
       "      <th>2017-06-19 18:28:00</th>\n",
       "      <td>4</td>\n",
       "      <td>Nacho</td>\n",
       "      <td>Mas o menos</td>\n",
       "      <td>2017</td>\n",
       "      <td>6</td>\n",
       "      <td>25</td>\n",
       "      <td>19</td>\n",
       "      <td>0</td>\n",
       "      <td>18</td>\n",
       "      <td>28</td>\n",
       "      <td>0</td>\n",
       "      <td>0</td>\n",
       "      <td>4</td>\n",
       "    </tr>\n",
       "    <tr>\n",
       "      <th>...</th>\n",
       "      <td>...</td>\n",
       "      <td>...</td>\n",
       "      <td>...</td>\n",
       "      <td>...</td>\n",
       "      <td>...</td>\n",
       "      <td>...</td>\n",
       "      <td>...</td>\n",
       "      <td>...</td>\n",
       "      <td>...</td>\n",
       "      <td>...</td>\n",
       "      <td>...</td>\n",
       "      <td>...</td>\n",
       "      <td>...</td>\n",
       "    </tr>\n",
       "    <tr>\n",
       "      <th>2020-06-30 23:36:00</th>\n",
       "      <td>39994</td>\n",
       "      <td>Gleb Uni</td>\n",
       "      <td>https://towardsdatascience.com/analyzethechat...</td>\n",
       "      <td>2020</td>\n",
       "      <td>6</td>\n",
       "      <td>27</td>\n",
       "      <td>30</td>\n",
       "      <td>1</td>\n",
       "      <td>23</td>\n",
       "      <td>36</td>\n",
       "      <td>0</td>\n",
       "      <td>0</td>\n",
       "      <td>2</td>\n",
       "    </tr>\n",
       "    <tr>\n",
       "      <th>2020-06-30 23:36:00</th>\n",
       "      <td>39995</td>\n",
       "      <td>Gleb Uni</td>\n",
       "      <td>sii</td>\n",
       "      <td>2020</td>\n",
       "      <td>6</td>\n",
       "      <td>27</td>\n",
       "      <td>30</td>\n",
       "      <td>1</td>\n",
       "      <td>23</td>\n",
       "      <td>36</td>\n",
       "      <td>0</td>\n",
       "      <td>0</td>\n",
       "      <td>2</td>\n",
       "    </tr>\n",
       "    <tr>\n",
       "      <th>2020-06-30 23:36:00</th>\n",
       "      <td>39996</td>\n",
       "      <td>Gleb Uni</td>\n",
       "      <td>justo</td>\n",
       "      <td>2020</td>\n",
       "      <td>6</td>\n",
       "      <td>27</td>\n",
       "      <td>30</td>\n",
       "      <td>1</td>\n",
       "      <td>23</td>\n",
       "      <td>36</td>\n",
       "      <td>0</td>\n",
       "      <td>0</td>\n",
       "      <td>2</td>\n",
       "    </tr>\n",
       "    <tr>\n",
       "      <th>2020-06-30 23:36:00</th>\n",
       "      <td>39997</td>\n",
       "      <td>Nacho</td>\n",
       "      <td>Jajajajajaja qué asco el que</td>\n",
       "      <td>2020</td>\n",
       "      <td>6</td>\n",
       "      <td>27</td>\n",
       "      <td>30</td>\n",
       "      <td>1</td>\n",
       "      <td>23</td>\n",
       "      <td>36</td>\n",
       "      <td>0</td>\n",
       "      <td>0</td>\n",
       "      <td>6</td>\n",
       "    </tr>\n",
       "    <tr>\n",
       "      <th>2020-06-30 23:36:00</th>\n",
       "      <td>39998</td>\n",
       "      <td>Gleb Uni</td>\n",
       "      <td>la caca</td>\n",
       "      <td>2020</td>\n",
       "      <td>6</td>\n",
       "      <td>27</td>\n",
       "      <td>30</td>\n",
       "      <td>1</td>\n",
       "      <td>23</td>\n",
       "      <td>36</td>\n",
       "      <td>0</td>\n",
       "      <td>0</td>\n",
       "      <td>3</td>\n",
       "    </tr>\n",
       "  </tbody>\n",
       "</table>\n",
       "<p>39999 rows × 13 columns</p>\n",
       "</div>"
      ],
      "text/plain": [
       "                        id      user  \\\n",
       "date                                   \n",
       "2017-06-19 18:27:00      0  Gleb Uni   \n",
       "2017-06-19 18:27:00      1     Nacho   \n",
       "2017-06-19 18:28:00      2     Nacho   \n",
       "2017-06-19 18:28:00      3     Nacho   \n",
       "2017-06-19 18:28:00      4     Nacho   \n",
       "...                    ...       ...   \n",
       "2020-06-30 23:36:00  39994  Gleb Uni   \n",
       "2020-06-30 23:36:00  39995  Gleb Uni   \n",
       "2020-06-30 23:36:00  39996  Gleb Uni   \n",
       "2020-06-30 23:36:00  39997     Nacho   \n",
       "2020-06-30 23:36:00  39998  Gleb Uni   \n",
       "\n",
       "                                                               message  year  \\\n",
       "date                                                                           \n",
       "2017-06-19 18:27:00             Con buenas vibras y concentración easy  2017   \n",
       "2017-06-19 18:27:00                                                Sii  2017   \n",
       "2017-06-19 18:28:00   De esto, basicamente pienso que cuando tu sab...  2017   \n",
       "2017-06-19 18:28:00   Es decir, se trstaria de evaluar un producto ...  2017   \n",
       "2017-06-19 18:28:00                                        Mas o menos  2017   \n",
       "...                                                                ...   ...   \n",
       "2020-06-30 23:36:00   https://towardsdatascience.com/analyzethechat...  2020   \n",
       "2020-06-30 23:36:00                                                sii  2020   \n",
       "2020-06-30 23:36:00                                              justo  2020   \n",
       "2020-06-30 23:36:00                       Jajajajajaja qué asco el que  2020   \n",
       "2020-06-30 23:36:00                                            la caca  2020   \n",
       "\n",
       "                     month  week  day  dayweek  hour  minute  emoji_count  \\\n",
       "date                                                                        \n",
       "2017-06-19 18:27:00      6    25   19        0    18      27            0   \n",
       "2017-06-19 18:27:00      6    25   19        0    18      27            0   \n",
       "2017-06-19 18:28:00      6    25   19        0    18      28            0   \n",
       "2017-06-19 18:28:00      6    25   19        0    18      28            0   \n",
       "2017-06-19 18:28:00      6    25   19        0    18      28            0   \n",
       "...                    ...   ...  ...      ...   ...     ...          ...   \n",
       "2020-06-30 23:36:00      6    27   30        1    23      36            0   \n",
       "2020-06-30 23:36:00      6    27   30        1    23      36            0   \n",
       "2020-06-30 23:36:00      6    27   30        1    23      36            0   \n",
       "2020-06-30 23:36:00      6    27   30        1    23      36            0   \n",
       "2020-06-30 23:36:00      6    27   30        1    23      36            0   \n",
       "\n",
       "                     media  words_count  \n",
       "date                                     \n",
       "2017-06-19 18:27:00      0            7  \n",
       "2017-06-19 18:27:00      0            2  \n",
       "2017-06-19 18:28:00      0           46  \n",
       "2017-06-19 18:28:00      0           19  \n",
       "2017-06-19 18:28:00      0            4  \n",
       "...                    ...          ...  \n",
       "2020-06-30 23:36:00      0            2  \n",
       "2020-06-30 23:36:00      0            2  \n",
       "2020-06-30 23:36:00      0            2  \n",
       "2020-06-30 23:36:00      0            6  \n",
       "2020-06-30 23:36:00      0            3  \n",
       "\n",
       "[39999 rows x 13 columns]"
      ]
     },
     "execution_count": 141,
     "metadata": {},
     "output_type": "execute_result"
    }
   ],
   "source": [
    "df"
   ]
  },
  {
   "cell_type": "code",
   "execution_count": 146,
   "metadata": {},
   "outputs": [],
   "source": [
    "# message_distribution_plot(df)"
   ]
  },
  {
   "attachments": {
    "image.png": {
     "image/png": "[encoded data removed]"
    }
   },
   "cell_type": "markdown",
   "metadata": {},
   "source": [
    "![image.png](attachment:image.png)"
   ]
  },
  {
   "cell_type": "code",
   "execution_count": 147,
   "metadata": {},
   "outputs": [
    {
     "data": {
      "text/plain": [
       "<matplotlib.axes._subplots.AxesSubplot at 0x7f8837b33950>"
      ]
     },
     "execution_count": 147,
     "metadata": {},
     "output_type": "execute_result"
    },
    {
     "data": {
      "image/png": "[encoded data removed]",
      "text/plain": [
       "<Figure size 1080x720 with 1 Axes>"
      ]
     },
     "metadata": {
      "needs_background": "light"
     },
     "output_type": "display_data"
    }
   ],
   "source": [
    "value_counts_plot_sns_hue(df, 'month', 'user')"
   ]
  },
  {
   "cell_type": "code",
   "execution_count": 143,
   "metadata": {},
   "outputs": [
    {
     "data": {
      "text/plain": [
       "<streamlit.DeltaGenerator.DeltaGenerator at 0x7f88783f4050>"
      ]
     },
     "execution_count": 143,
     "metadata": {},
     "output_type": "execute_result"
    },
    {
     "data": {
      "text/plain": [
       "<Figure size 432x288 with 0 Axes>"
      ]
     },
     "metadata": {},
     "output_type": "display_data"
    }
   ],
   "source": [
    "st.pyplot()"
   ]
  },
  {
   "cell_type": "code",
   "execution_count": null,
   "metadata": {},
   "outputs": [],
   "source": []
  },
  {
   "cell_type": "code",
   "execution_count": null,
   "metadata": {},
   "outputs": [],
   "source": []
  },
  {
   "cell_type": "code",
   "execution_count": null,
   "metadata": {},
   "outputs": [],
   "source": []
  }
 ],
 "metadata": {
  "kernelspec": {
   "display_name": "Python 3",
   "language": "python",
   "name": "python3"
  },
  "language_info": {
   "codemirror_mode": {
    "name": "ipython",
    "version": 3
   },
   "file_extension": ".py",
   "mimetype": "text/x-python",
   "name": "python",
   "nbconvert_exporter": "python",
   "pygments_lexer": "ipython3",
   "version": "3.7.6"
  }
 },
 "nbformat": 4,
 "nbformat_minor": 4
}
